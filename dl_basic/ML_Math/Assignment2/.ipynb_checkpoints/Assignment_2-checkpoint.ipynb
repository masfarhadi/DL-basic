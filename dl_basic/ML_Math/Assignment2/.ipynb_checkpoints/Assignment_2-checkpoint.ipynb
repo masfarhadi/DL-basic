{
 "cells": [
  {
   "cell_type": "markdown",
   "metadata": {},
   "source": [
    "<h1 style=\"color:rgb(0,120,170)\">Assignment 2: Fisher Information, CRLB</h1>"
   ]
  },
  {
   "cell_type": "markdown",
   "metadata": {},
   "source": [
    "This material, no matter whether in printed or electronic form, may be used for personal and non-commercial educational use only. Any reproduction of this material, no matter whether as a whole or in parts, no matter whether in printed or in electronic form, requires explicit prior acceptance of the authors."
   ]
  },
  {
   "cell_type": "markdown",
   "metadata": {},
   "source": [
    "<h2 style=\"color:rgb(0,120,170)\">Task 1: Explicit computations regarding the Fisher information</h2>"
   ]
  },
  {
   "cell_type": "markdown",
   "metadata": {},
   "source": [
    "<h3 style=\"color:rgb(0,120,170)\">Task:</h3>\n",
    "\n",
    "We are given a random variable $X$ with pdf (probability density function)\n",
    "\\begin{align*}\n",
    "f(x ; p) &= p^x(1-p)^{1-x} , \\\\\n",
    "\\end{align*}\n",
    "where $0 \\leq p \\leq 1$ is the parameter and the support is $x \\in \\{0,1\\}$. \n",
    "\n",
    "* Do you know the name of the distribution to which the pdf belongs? Bernoulli\n",
    "* Calculate the Fisher information. Assume this distribution fulfills all the required regularity conditions, i.e. you can use the following formula:\n",
    "\\begin{align*}\n",
    "I_F(p) &= -\\mathbb{E}_X \\big[ \\frac{d^2}{dp^2} \\ln f(x ; p) \\big]  \\ .\n",
    "\\end{align*}"
   ]
  },
  {
   "cell_type": "markdown",
   "metadata": {},
   "source": [
    "<h3 style=\"color:rgb(210,90,80)\">Calculation (20 points):</h3>\n",
    "\n",
    "\\begin{align*}\n",
    "\\frac{d^{2}}{dp^{2}}\\ln f(x;p)= & \\frac{d^{2}}{dp^{2}}\\ln(p^{x}(1-p)^{1-x})=\\frac{d^{2}}{dp^{2}}(x\\ln(p)+(1-x)\\ln(1-p))=-\\frac{x}{p^{2}}-\\frac{1-x}{(1-p)^{2}}\n",
    "\\end{align*}\n",
    "Therefore the Fisher inforamtion is \n",
    "\\begin{align*}\n",
    "I_{F}(p) & =-\\mathbb{E}_{X}\\big[\\frac{d^{2}}{dp^{2}}\\ln f(x;p)\\big]=\\mathbb{E}_{X}\\big[\\frac{x}{p^{2}}+\\frac{1-x}{(1-p)^{2}}\\big]\n",
    "\\end{align*}\n",
    "By calculating the mean of the distribution \n",
    "\\begin{align*}\n",
    "\\mathbb{E}_{X}(x)=p \\implies I_{F}(p) & =\\frac{p}{p^{2}}+\\frac{1-p}{(1-p)^{2}}=\\frac{1}{p}+\\frac{1}{1-p}=\\frac{1}{p(1-p)}\n",
    "\\end{align*}"
   ]
  },
  {
   "cell_type": "markdown",
   "metadata": {},
   "source": [
    "<h3 style=\"color:rgb(0,120,170)\">Task:</h3>\n",
    "\n",
    "Suppose we draw $n$ i.i.d samples  $\\{x_1, \\ldots, x_n \\}$ from the above random variable $X$. Then the likelihood is\n",
    "\\begin{align*}\n",
    "f(\\{x_1, \\ldots, x_n \\}; p) &= \\prod^n_{i=1} f(x_i; p) = \\prod^n_{i=1} p^{x_i}(1-p)^{1-{x_i}} \\ . \\\\\n",
    "\\end{align*}\n",
    "\n",
    "* Calculate the Fisher Information, that is, calculate \n",
    "\\begin{align*}\n",
    "I_F(p) &= - \\mathbb{E}_X \\big[ \\frac{\\partial^2}{\\partial p^2} \\log f(\\{x_1, \\ldots, x_n \\}; p) \\big] \\ .\n",
    "\\end{align*}"
   ]
  },
  {
   "cell_type": "markdown",
   "metadata": {},
   "source": [
    "<h3 style=\"color:rgb(210,90,80)\">Calculation (10 points):</h3>\n",
    "\n",
    "\\begin{align*}\n",
    "I_{F}(p) & =-\\mathbb{E}_{X}\\big[\\frac{\\partial^{2}}{\\partial p^{2}}\\log f(\\{x_{1},\\ldots,x_{n}\\};p)\\big]=-\\mathbb{E}_{X}\\big[\\frac{\\partial^{2}}{\\partial p^{2}}\\sum_{i=1}^{n}\\log f(x_{i};p)\\big]=\\sum_{i=1}^{n}-\\mathbb{E}_{X}\\big[\\frac{\\partial^{2}}{\\partial p^{2}}\\log f(x_{i};p)\\big]=\\sum_{i=1}^{n}\\frac{1}{p(1-p)}=\\frac{n}{p(1-p)}\n",
    "\\end{align*}"
   ]
  },
  {
   "cell_type": "markdown",
   "metadata": {},
   "source": [
    "<h3 style=\"color:rgb(0,120,170)\">Task:</h3>\n",
    "\n",
    "We are given a random variable $X$ with pdf\n",
    "\\begin{align*}\n",
    "p(x ; \\lambda) &= \\frac{\\lambda^x}{x!} e^{-\\lambda} \\ , \\\\ \n",
    "\\end{align*}\n",
    "where $\\lambda$ is the parameter and the support is $x \\in \\mathbb{N} \\cup 0$.\n",
    "\n",
    "* Do you know the name of the distribution to which the pdf belongs? Poisson\n",
    "* Calculate the Fisher information! \n",
    "Assume this distribution fulfills all the required regularity conditions, i.e. you can use the following formula:\n",
    "\\begin{align*}\n",
    "I_F(\\lambda) &= -\\mathbb{E}_X \\big[ \\frac{d^2}{d \\lambda^2} \\log p(x ; \\lambda) \\big] \\ .\n",
    "\\end{align*}"
   ]
  },
  {
   "cell_type": "markdown",
   "metadata": {},
   "source": [
    "<h3 style=\"color:rgb(210,90,80)\">Calculation (10 points):</h3>\n",
    "\n",
    "\\begin{align*}\n",
    "\\frac{d^{2}}{d\\lambda^{2}}\\log p(x;\\lambda) & =\\frac{d^{2}}{d\\lambda^{2}}\\log(\\frac{\\lambda^{x}}{x!}e^{-\\lambda})=-\\frac{x}{\\lambda^{2}}\n",
    "\\end{align*}\n",
    "\n",
    "\\begin{align*}\n",
    "I_{F}(\\lambda) & =-\\mathbb{E}_{X}\\big[\\frac{d^{2}}{d\\lambda^{2}}\\log p(x;\\lambda)\\big]=\\mathbb{E}_{X}\\big[\\frac{x}{\\lambda^{2}}\\big]\n",
    "\\end{align*}\n",
    "By calculating the mean of the distribution \n",
    "\\begin{align*}\n",
    "\\mathbb{E}_{X}(x)=\\lambda\\implies I_{F}(\\lambda) & =-\\mathbb{E}_{X}\\big[\\frac{d^{2}}{d\\lambda^{2}}\\log p(x;\\lambda)\\big]=\\frac{1}{\\lambda}\n",
    "\\end{align*}\n"
   ]
  },
  {
   "cell_type": "markdown",
   "metadata": {},
   "source": [
    "<h3 style=\"color:rgb(0,120,170)\">Task:</h3>\n",
    "\n",
    "Suppose we draw $n$ i.i.d samples  $\\{x_1, \\ldots, x_n \\}$ from the above random variable $X$. Then the Likelihood is\n",
    "\\begin{align*}\n",
    "p(\\{x_1, \\ldots, x_n \\}; \\lambda) &= \\prod^n_{i=1} p(x_i; \\lambda) = \\prod^n_{i=1} \\frac{\\lambda^{x_i}}{x_i!} e^{-\\lambda} \\ .\\\\\n",
    "\\end{align*}\n",
    "\n",
    "Calculate the Fisher Information, that is, calculate \n",
    "\\begin{align*}\n",
    "I_F(\\lambda) &= - \\mathbb{E}_X \\big[ \\frac{\\partial^2}{\\partial \\lambda^2} \\ln p(\\{x_1, \\ldots, x_n \\}; \\lambda) \\big] \\ .\n",
    "\\end{align*}\n"
   ]
  },
  {
   "cell_type": "markdown",
   "metadata": {},
   "source": [
    "<h3 style=\"color:rgb(210,90,80)\">Calculation (10 points):</h3>\n",
    "\n",
    "\\begin{align*}\n",
    "I_{F}(\\lambda) & =-\\mathbb{E}_{X}\\big[\\frac{\\partial^{2}}{\\partial\\lambda^{2}}\\ln p(\\{x_{1},\\ldots,x_{n}\\};\\lambda)\\big]=-\\mathbb{E}_{X}\\big[\\frac{\\partial^{2}}{\\partial\\lambda^{2}}\\ln\\prod_{i=1}^{n}p(x_{i};\\lambda)\\big]=-\\mathbb{E}_{X}\\big[\\frac{\\partial^{2}}{\\partial\\lambda^{2}}\\sum_{i=1}^{n}\\ln(\\frac{\\lambda^{x_{i}}}{x_{i}!}e^{-\\lambda})\\big]=\\sum_{i=1}^{n}-\\mathbb{E}_{X}\\big[\\frac{\\partial^{2}}{\\partial\\lambda^{2}}\\ln(\\frac{\\lambda^{x_{i}}}{x_{i}!}e^{-\\lambda})\\big]=\\sum_{i=1}^{n}\\frac{1}{\\lambda}=\\frac{n}{\\lambda}\n",
    "\\end{align*}\n"
   ]
  },
  {
   "cell_type": "markdown",
   "metadata": {},
   "source": [
    "<h2 style=\"color:rgb(0,120,170)\">Task 2: Implementation of Fisher Information </h2>"
   ]
  },
  {
   "cell_type": "markdown",
   "metadata": {},
   "source": [
    "<h3 style=\"color:rgb(0,120,170)\">Task:</h3>\n",
    "\n",
    "We are going to take a look at two different estimators for the population variance.\n",
    "Write a function that samples $n$ numbers from a Gaussian distribution with mean $\\mu=5$ and variance $\\sigma^2=4$. \n",
    "Then, calculate the variance of your sample using the following two \n",
    "estimators ($\\bar{x}$ denotes the sample mean of the data):\n",
    "\\begin{align*}\n",
    "   (\\textrm{A}) \\quad \\hat{\\sigma}^2_\\textrm{A} = \\frac{1}{n-1}\\sum_i (\\bar{x} - x_i)^2\n",
    "\\end{align*}\n",
    "and\n",
    "\\begin{align*}\n",
    "   (\\textrm{B}) \\quad \\quad \\ \\hat{\\sigma}^2_\\textrm{B} = \\frac{1}{n}\\sum_i (\\bar{x} - x_i)^2\n",
    "\\end{align*}\n",
    "\n",
    "Do this 10,000 times, drawing $n$ new samples each time, and keep track of the mean and variance of both estimators\n",
    "Don't get confused: we want you to calculate the variance of the estimates of the variance :). \n",
    "Do this for $n$ = 10 and $n$ = 1000.\n",
    " \n",
    "Hint: the Fisher Information Matrix for a sample of size $n$ of a Gaussian distribution is:\n",
    "\\begin{align*}\n",
    "I_F = \\left(\n",
    "    \\begin{array}{cc}\n",
    "    \\frac{n}{\\sigma^2} & 0 \\\\\n",
    "    0 & \\frac{n}{2 \\sigma^4} \\end{array} \\right) \\ .\n",
    "\\end{align*}"
   ]
  },
  {
   "cell_type": "markdown",
   "metadata": {},
   "source": [
    "<h3 style=\"color:rgb(208,90,80)\">Code (40 points)</h3>"
   ]
  },
  {
   "cell_type": "code",
   "execution_count": 63,
   "metadata": {},
   "outputs": [],
   "source": [
    "import numpy as np\n",
    "from numpy.random import normal\n",
    "import matplotlib.pyplot as plt"
   ]
  },
  {
   "cell_type": "code",
   "execution_count": 64,
   "metadata": {},
   "outputs": [],
   "source": [
    "################################################\n",
    "# Begin your code (multiple cells)"
   ]
  },
  {
   "cell_type": "code",
   "execution_count": 65,
   "metadata": {},
   "outputs": [],
   "source": [
    "def Gauss_dist(n,mu=5,var=4):\n",
    "    sigma = np.sqrt(var)  # standard deviation\n",
    "    x = np.random.normal(mu, sigma, n)   \n",
    "    return x"
   ]
  },
  {
   "cell_type": "code",
   "execution_count": 66,
   "metadata": {},
   "outputs": [],
   "source": [
    "def est_A(x):\n",
    "    n = np.shape(x)[0]\n",
    "    var_hat_A = 1/(n-1)*sum((x.mean()-x)**2)\n",
    "    return var_hat_A"
   ]
  },
  {
   "cell_type": "code",
   "execution_count": 67,
   "metadata": {},
   "outputs": [],
   "source": [
    "def est_B(x):\n",
    "    n = np.shape(x)[0]\n",
    "    var_hat_B = 1/(n)*sum((x.mean()-x)**2)\n",
    "    return var_hat_B"
   ]
  },
  {
   "cell_type": "code",
   "execution_count": 68,
   "metadata": {},
   "outputs": [],
   "source": [
    "def estimators(n):\n",
    "    var_hat_A = np.zeros(10000)\n",
    "    var_hat_B = np.zeros(10000)\n",
    "    # repeat the random distribution generation and variance estimators calculation\n",
    "    for ii in range(10000):\n",
    "        x = Gauss_dist(n)\n",
    "        var_hat_A[ii] = est_A(x)\n",
    "        var_hat_B[ii] = est_B(x)\n",
    "    \n",
    "    # calculate mean and variance of estimators\n",
    "    mean_A = np.mean(var_hat_A)\n",
    "    var_A = np.var(var_hat_A)\n",
    "    mean_B = np.mean(var_hat_B)\n",
    "    var_B = np.var(var_hat_B)\n",
    "    return mean_A, var_A, mean_B, var_B"
   ]
  },
  {
   "cell_type": "code",
   "execution_count": 69,
   "metadata": {},
   "outputs": [
    {
     "name": "stdout",
     "output_type": "stream",
     "text": [
      "for n=10 the mean and variance of estimators are:\n",
      "mean_A = 4.000672 and variance_A = 3.571309\n",
      "mean_B = 3.600605 and variance_B = 2.892760\n"
     ]
    }
   ],
   "source": [
    "n = 10\n",
    "mean_A, var_A, mean_B, var_B = estimators(n)\n",
    "print('for n=10 the mean and variance of estimators are:')\n",
    "print ('mean_A = %.6f'%mean_A, 'and variance_A = %.6f'%var_A)\n",
    "print ('mean_B = %.6f'%mean_B, 'and variance_B = %.6f'%var_B)"
   ]
  },
  {
   "cell_type": "code",
   "execution_count": 71,
   "metadata": {},
   "outputs": [
    {
     "name": "stdout",
     "output_type": "stream",
     "text": [
      "for n=1000 the mean and variance of estimators are:\n",
      "mean_A = 4.000461 and variance_A = 0.032258\n",
      "mean_B = 3.996460 and variance_B = 0.032193\n"
     ]
    }
   ],
   "source": [
    "n=1000\n",
    "mean_A, var_A, mean_B, var_B = estimators(n)\n",
    "print('for n=1000 the mean and variance of estimators are:')\n",
    "print ('mean_A = %.6f'%mean_A, 'and variance_A = %.6f'%var_A)\n",
    "print ('mean_B = %.6f'%mean_B, 'and variance_B = %.6f'%var_B)"
   ]
  },
  {
   "cell_type": "code",
   "execution_count": null,
   "metadata": {},
   "outputs": [],
   "source": [
    "# End your code (multiple cells)\n",
    "################################################"
   ]
  },
  {
   "cell_type": "markdown",
   "metadata": {},
   "source": [
    "<h3 style=\"color:rgb(0,120,170)\">Task:</h3>\n",
    "\n",
    "* On average, which estimator is closer to the true value? And which one has less variance?\n",
    "* What is the Cramer-Rao Lower Bound for this estimation task? You will probably have\n",
    " observed that one of the estimators has even less variance than the CRLB predicts. How can that be?"
   ]
  },
  {
   "cell_type": "markdown",
   "metadata": {},
   "source": [
    "<h3 style=\"color:rgb(208,90,80)\">Question (10 points)</h3>\n",
    "\n",
    "The estimator (A) is closer to true value but the variance of estimator (B) is less in both tests.\n",
    "\n",
    "The CRLB is inverse of The fisher information matrix element for variance = $\\frac{2\\sigma^4}{n}$.\n",
    "\n",
    "The varinace of estimator (B) is lower than the CRLB because it is a biased estimator.\n"
   ]
  }
 ],
 "metadata": {
  "kernelspec": {
   "display_name": "Python 3",
   "language": "python",
   "name": "python3"
  },
  "language_info": {
   "codemirror_mode": {
    "name": "ipython",
    "version": 3
   },
   "file_extension": ".py",
   "mimetype": "text/x-python",
   "name": "python",
   "nbconvert_exporter": "python",
   "pygments_lexer": "ipython3",
   "version": "3.7.1"
  }
 },
 "nbformat": 4,
 "nbformat_minor": 4
}
