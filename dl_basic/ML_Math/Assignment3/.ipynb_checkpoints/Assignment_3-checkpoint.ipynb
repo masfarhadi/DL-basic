{
 "cells": [
  {
   "cell_type": "markdown",
   "metadata": {},
   "source": [
    "<h1 style=\"color:rgb(0,120,170)\">Assignment 3: Expectation Maximization</h1>"
   ]
  },
  {
   "cell_type": "markdown",
   "metadata": {},
   "source": [
    "<h2 style=\"color:rgb(0,120,170)\">Task 1: Proof details for EM-algorithm</h2>\n",
    "\n",
    "This task is meant to foster your understanding concerning some theoretical insights into the EM algorithm.\n",
    "As you have seen in the lecture, when doing EM, you improve the log likelihood of the data $\\sum_i^N \\mathsf{ln} p(\\mathbf{x}^i\\!\\mid\\!\\mathbf{\\Theta})$ by introducing a distribution $Q(\\mathbf{u}\\!\\mid\\!\\mathbf{x})$ on hidden variables $\\mathbf{u}$. Then, instead of maximizing the log likelihood directly, you maximize a lower bound which is obtained through Jensen's inequality. We have:\n",
    "\\begin{align}\n",
    "\\sum_i^N \\mathsf{ln} (p(\\mathbf{x}^i)) \\geq \\sum_i^N \\int_U Q(\\mathbf{u}\\!\\mid\\!\\mathbf{x})\\ \\mathsf{ln} \\frac{p(\\mathbf{x}^i, \\mathbf{u})}{Q(\\mathbf{u}\\!\\mid\\!\\mathbf{x})}\\ d\\mathbf{u} \\ .\n",
    "\\end{align}\n",
    "\n",
    "<h3 style=\"color:rgb(0,120,170)\">Task:</h3>\n",
    "\n",
    "Confirm that after each E-step in the EM algorithm, this lower bound is reached with equality (\"the bound is tight\")."
   ]
  },
  {
   "cell_type": "markdown",
   "metadata": {},
   "source": [
    "<h3 style=\"color:rgb(210,90,80)\">Calculation (20 points):</h3>\n",
    "We can write the lower bound of inrquality as\n",
    "\\begin{align*}\n",
    "\\int_{U}Q(\\mathbf{u}\\mid\\mathbf{x})\\mathsf{ln}\\frac{p(\\mathbf{x}^{i},\\mathbf{u})}{Q(\\mathbf{u}\\mid\\mathbf{x})}d\\mathbf{u} & =\\int_{U}Q(\\mathbf{u}\\mid\\mathbf{x})\\mathsf{ln}\\frac{p(\\mathbf{u}\\mid\\mathbf{x}^{i})p(\\mathbf{x}^{i})}{Q(\\mathbf{u}\\mid\\mathbf{x})}d\\mathbf{u}=\\int_{U}Q(\\mathbf{u}\\mid\\mathbf{x})\\mathsf{ln}p(\\mathbf{x}^{i})d\\mathbf{u}+\\int_{U}Q(\\mathbf{u}\\mid\\mathbf{x})\\mathsf{ln}\\frac{p(\\mathbf{u}\\mid\\mathbf{x}^{i})}{Q(\\mathbf{u}\\mid\\mathbf{x})}d\\mathbf{u}\n",
    "\\end{align*}\n",
    "\n",
    "By considering the Kullback-Leibler divergence the equation can be rewritten as\n",
    "\\begin{align*}\n",
    "\\int_{U}Q(\\mathbf{u}\\mid\\mathbf{x})\\mathsf{ln}\\frac{p(\\mathbf{x}^{i},\\mathbf{u})}{Q(\\mathbf{u}\\mid\\mathbf{x})}d\\mathbf{u} & =\\int_{U}Q(\\mathbf{u}\\mid\\mathbf{x})\\mathsf{ln}p(\\mathbf{x}^{i})d\\mathbf{u}-\\int_{U}Q(\\mathbf{u}\\mid\\mathbf{x})\\mathsf{ln}\\frac{Q(\\mathbf{u}\\mid\\mathbf{x})}{p(\\mathbf{u}\\mid\\mathbf{x}^{i})}d\\mathbf{u}=\\mathsf{ln}p(\\mathbf{x}^{i})-\\int_{U}Q(\\mathbf{u}\\mid\\mathbf{x})\\mathsf{ln}\\frac{Q(\\mathbf{u}\\mid\\mathbf{x})}{p(\\mathbf{u}\\mid\\mathbf{x}^{i})}d\\mathbf{u}\n",
    "\\end{align*}\n",
    "\n",
    "Then, after each E-step in the EM algorithm \n",
    "\\begin{align*}\n",
    "Q(\\mathbf{u}\\mid\\mathbf{x}) & :=p(\\mathbf{u}\\mid\\mathbf{x}^{i})\n",
    "\\end{align*}\n",
    "\n",
    "Threrefore,\n",
    "\\begin{align*}\n",
    "\\int_{U}Q(\\mathbf{u}\\mid\\mathbf{x})\\mathsf{ln}\\frac{Q(\\mathbf{u}\\mid\\mathbf{x})}{p(\\mathbf{u}\\mid\\mathbf{x}^{i})}d\\mathbf{u} & =0\\implies\\int_{U}Q(\\mathbf{u}\\mid\\mathbf{x})\\mathsf{ln}\\frac{p(\\mathbf{x}^{i},\\mathbf{u})}{Q(\\mathbf{u}\\mid\\mathbf{x})}d\\mathbf{u}=\\mathsf{ln}p(\\mathbf{x}^{i})\n",
    "\\end{align*}\n",
    "\n",
    "and \n",
    "<!-- \\begin{align*}\n",
    "\\sum_{i}^{N}\\mathsf{ln}(p(\\mathbf{x}^{i}))= & \\sum_{i}^{N}\\int_{U}Q(\\mathbf{u}\\mid\\mathbf{x})\\mathsf{ln}\\frac{p(\\mathbf{x}^{i},\\mathbf{u})}{Q(\\mathbf{u}\\mid\\mathbf{x})}d\\mathbf{u}\n",
    "\\end{align*}\n",
    " -->\n",
    "\\begin{align}\n",
    "\\sum_i^N \\mathsf{ln} (p(\\mathbf{x}^i)) \\geq  \\int_U  Q(\\mathbf{u}\\!\\mid\\!\\mathbf{x})\\ \\left\\{ \\left( \\sum_i^N \\mathsf{ln} (p(\\mathbf{x}^i, \\mathbf{u}) \\right)+\\mathsf{ln} \\frac{1}{Q(\\mathbf{u}\\!\\mid\\!\\mathbf{x})} \\right\\} d\\mathbf{u}.\n",
    "\\end{align}"
   ]
  },
  {
   "cell_type": "markdown",
   "metadata": {},
   "source": [
    "<h2 style=\"color:rgb(0,120,170)\"> Task 2: Examples of Mixture models </h2>\n",
    "\n",
    "In the slides, we discussed the procedure of obtaining well-suited parameters for a mixture of Gaussians model, thereby using the EM-algorithm. Now we want to apply these techniques to derive update formulas for a similar (and even easier) tasks in the discrete setting, namely the Mixture of (one-dimensional) Poisson distributios and Bernoulli distributions. Let us start recalling the general notion of a mixture model: a mixture of $K$ distributions $p_k(x;\\theta_k)$ with $k=1,...,K$ can be written as:\n",
    "$\n",
    "p(x) = \\sum_{k=1}^K\\alpha_k p_k(x;\\theta_k),\n",
    "$\n",
    "where $\\sum_{k=1}^K\\alpha_k = 1$ and all $\\alpha_k > 0$. If the data are assumed to be drawn i.i.d. from $p(x)$, the likelihood function has the form\n",
    "\\begin{equation}\n",
    "\\mathsf{ln} \\mathcal{L}(\\Theta \\!\\mid\\! x_1, ..., x_n) = \\mathsf{ln} \\prod_{i=1}^n p(x_i) = \\sum_{i=1}^n \\mathsf{ln}\\Big(\\sum_{k=1}^K \\alpha_k p(x_i;\\theta_k)\\Big)\n",
    "\\end{equation}\n",
    "where $\\Theta = \\{ \\alpha_1, ..., \\alpha_K, \\theta_1, ..., \\theta_K \\}$.\n",
    "\n",
    "<h3 style=\"color:rgb(0,120,170)\">Task:</h3>\n",
    "\n",
    "In a similar way as in the slides apply the EM-algorithm, specifically you are asked to derive update formulas for $r_{ik}$, $\\alpha_k$, $\\lambda_k$ and $\\mu_k$ (the corresponding parameters) to be used in the E- and M-steps for:\n",
    "* A mixture of Poisson distributions $P(x;\\lambda) = \\lambda^{x}e^{-\\lambda}\\frac{1}{x!}$. Keep in mind that this is a discrete distribution, i.e. $x \\in \\mathbb{N} \\cup \\{ 0 \\}$. Moreover, $\\lambda>0$.\n",
    "* A mixture of Bernoulli distributions $P(x; \\mu)= \\mu ^x (1-\\mu)^{1-x}$. Keep in mind that this is a discrete distribution with binary outputs, such that in our case $x \\in  \\{ 0,1 \\}$. Moreover $\\mu \\in [0,1]$.\n",
    "\n",
    "Note that most of the formulas from the slides for the Mixture of Gaussians problem can be reused, as they are not specific to the Gaussian distribution, but for a Mixture Model in general. These calculations shouldn't be reproduced again, just use the corresponding results!"
   ]
  },
  {
   "cell_type": "markdown",
   "metadata": {},
   "source": [
    "<h3 style=\"color:rgb(210,90,80)\">Calculation (35 points):</h3>\n",
    "A mixture of Poisson distributions:\n",
    "\n",
    "* M-step:\n",
    "\\begin{align*}\n",
    "\\frac{\\partial\\mathsf{ln}\\mathcal{L}}{\\partial\\lambda_{k}} & =\\frac{\\partial\\mathsf{ln}\\prod_{i=1}^{n}p(x_{i})}{\\partial\\lambda_{k}}=\\frac{\\partial\\sum_{i=1}^{n}\\mathsf{ln}\\Big(\\sum_{k=1}^{K}\\alpha_{k}p(x_{i};\\lambda_{k})\\Big)}{\\partial\\lambda_{k}}=\\frac{\\partial\\sum_{i=1}^{n}\\mathsf{ln}\\Big(\\sum_{k=1}^{K}\\alpha_{k}\\lambda_{k}^{x_{i}}e^{-\\lambda_{k}}\\frac{1}{x_{i}!}\\Big)}{\\partial\\lambda_{k}}\\\\\n",
    " & =\\frac{\\partial}{\\partial\\lambda_{k}}\\sum_{i=1}^{n}\\Big(\\sum_{k=1}^{K}\\Big(\\ln\\alpha_{k}+x_{i}\\ln\\lambda_{k}-\\lambda_{k}+\\ln\\frac{1}{x_{i}!}\\Big)\\Big)=\\sum_{i=1}^{n}\\Big(\\sum_{k=1}^{K}\\Big(\\frac{x_{i}}{\\lambda_{k}}-1\\Big)\\Big)=0\\\\\n",
    "\\implies & \\lambda_{k}=x_{i}\n",
    "\\end{align*}\n",
    "plugginh into eqaution in slide 12,\n",
    "\\begin{align*}\n",
    "\\lambda_{k}\\sum_{i=1}^{n}r_{ik} & =\\sum_{i=1}^{n}r_{ik}x_{i}\\\\\n",
    "\\implies\\lambda_{k} & =\\frac{\\sum_{i=1}^{n}r_{ik}x_{i}}{\\sum_{i=1}^{n}r_{ik}} = \\frac{\\sum_{i=1}^nx_i p(u_i = k \\mid x_i)}{\\sum_{i=1}^np(u_i = k \\mid x_i)}\n",
    "\\end{align*}\n",
    "Similar to slide 13,\n",
    "\\begin{equation}\n",
    "\\alpha_{k}=\\frac{1}{n}\\sum_{i=1}^{n}r_{ik} = \\frac{1}{n}\\sum_{i=1}^n p(u_i\\! =\\! k \\!\\mid\\! x_i)\n",
    "\\end{equation}\n",
    "\n",
    "* E-step:\n",
    "\\begin{equation}\n",
    "r_{ik}=p(u_i\\! =\\! k \\!\\mid\\! x_i)=\\frac{\\alpha_{k}p(x_{i};\\lambda_{k})}{\\sum_{l=1}^{K}\\alpha_{l}p(x_{i};\\lambda_{l})}=\\frac{\\alpha_{k}\\lambda_{k}^{x_{i}}e^{-\\lambda_{k}}\\frac{1}{x_{i}!}}{\\sum_{l=1}^{K}\\alpha_{l}\\lambda_{l}^{x_{i}}e^{-\\lambda_{l}}\\frac{1}{x_{i}!}}\n",
    "\\end{equation}\n",
    "\n",
    "A mixture of Bernoulli distributions \n",
    "\n",
    "* M-step:\n",
    "\\begin{align*}\n",
    "\\frac{\\partial\\mathsf{ln}\\mathcal{L}}{\\partial\\mu_{k}} & =\\frac{\\partial\\mathsf{ln}\\prod_{i=1}^{n}p(x_{i})}{\\partial\\mu_{k}}=\\frac{\\partial\\sum_{i=1}^{n}\\mathsf{ln}\\Big(\\sum_{k=1}^{K}\\alpha_{k}p(x_{i};\\lambda_{k})\\Big)}{\\partial\\mu_{k}}=\\frac{\\partial\\sum_{i=1}^{n}\\mathsf{ln}\\Big(\\sum_{k=1}^{K}\\alpha_{k}\\mu_{k}^{x_{i}}(1-\\mu_{k})^{1-x_{i}}\\Big)}{\\partial\\mu_{k}}\\\\\n",
    " & =\\frac{\\partial}{\\partial\\mu_{k}}\\sum_{i=1}^{n}\\Big(\\sum_{k=1}^{K}\\Big(\\ln\\alpha_{k}+x_{i}\\ln\\mu_{k}+(1-x_{i})\\ln(1-\\mu_{k})\\Big)\\Big)=\\sum_{i=1}^{n}\\Big(\\sum_{k=1}^{K}\\Big(\\frac{x_{i}}{\\mu_{k}}-\\frac{1-x_{i}}{1-\\mu_{k}}\\Big)\\Big)=0\\\\\n",
    "\\implies & \\mu_{k}=x_{i}\n",
    "\\end{align*}\n",
    "\n",
    "plugginh into eqaution in slide 12,\n",
    "\\begin{align*}\n",
    "\\mu_{k}\\sum_{i=1}^{n}r_{ik} & =\\sum_{i=1}^{n}r_{ik}x_{i}\\\\\n",
    "\\implies\\mu_{k} & =\\frac{\\sum_{i=1}^{n}r_{ik}x_{i}}{\\sum_{i=1}^{n}r_{ik}}=\\frac{\\sum_{i=1}^nx_i p(u_i = k \\mid x_i)}{\\sum_{i=1}^np(u_i = k \\mid x_i)}\n",
    "\\end{align*}\n",
    "Similar to slide 13,\n",
    "\\begin{equation}\n",
    "\\alpha_{k}=\\frac{1}{n}\\sum_{i=1}^{n}r_{ik} = \\frac{1}{n}\\sum_{i=1}^n p(u_i\\! =\\! k \\!\\mid\\! x_i)\n",
    "\\end{equation}\n",
    "\n",
    "\n",
    "* E-step:\n",
    "\\begin{equation}\n",
    "r_{ik}=p(u_i\\! =\\! k \\!\\mid\\! x_i)=\\frac{\\alpha_{k}p(x_{i};\\mu_{k})}{\\sum_{l=1}^{K}\\alpha_{l}p(x_{i};\\mu_{l})}=\\frac{\\alpha_{k}\\mu_{k}^{x_{i}}(1-\\mu_{k})^{1-x_{i}}}{\\sum_{l=1}^{K}\\alpha_{l}\\mu_{l}^{x_{i}}(1-\\mu_{l})^{1-x_{i}}}\n",
    "\\end{equation}\n"
   ]
  },
  {
   "cell_type": "markdown",
   "metadata": {},
   "source": [
    "<h2 style=\"color:rgb(0,120,170)\"> Task 3: Implementation of Mixture of Poisson algorithm </h2>\n",
    "\n",
    "\n",
    "Now we intend to write a program that estimates all the parameters of a Mixture of Poissons via an EM algorithm by using the results from the previous task. If you have done that correctly, you should have obtained $\\alpha_k = \\frac{1}{n}\\sum_{i=1}^n p(u_i\\! =\\! k \\!\\mid\\! x_i)$, $ \\lambda_k = \\frac{\\sum_{i=1}^nx_i p(u_i = k \\mid x_i)}{\\sum_{i=1}^np(u_i = k \\mid x_i)}$, and $\n",
    "r_{ik} =\\frac{\\alpha_k p(x_i;\\theta_k)}{\\sum_{l=1}^K\\alpha_l p(x_i;\\theta_l)}\n",
    "$. (Obviously, it's not enough for the previous task to just write down these solutions, of course you have to provide arguments.) Let us start with reading in and visualizing the data set that you have to use, then proceed with doing the following tasks:\n",
    "\n",
    "<h3 style=\"color:rgb(0,120,170)\">Task:</h3>\n",
    "\n",
    "* Write functions that implement the E-step, M-step and the log-likelihoods.\n",
    "* Then iterate until the differences between the log-likelihoods before and after some iteration step is less than $10^{-5}$.\n",
    "* Let your algorithm run on the data from $\\mathsf{cnvdata.csv}$, which we already encoded in the variable data. Start with $K=4$ mixture components, and initialize all four alphas equally. For the initialization of the $\\lambda_k$'s use $10,50,100$ and $150$. \n",
    "* Try further choices of $K$ and run different experiments with different random initializations (at least one). Be careful with exponents and factorials to not run into overflow."
   ]
  },
  {
   "cell_type": "code",
   "execution_count": 1,
   "metadata": {
    "scrolled": true
   },
   "outputs": [
    {
     "data": {
      "image/png": "[encoded data removed]",
      "text/plain": [
       "<Figure size 432x288 with 1 Axes>"
      ]
     },
     "metadata": {
      "needs_background": "light"
     },
     "output_type": "display_data"
    }
   ],
   "source": [
    "# Nothing to do here\n",
    "\n",
    "from scipy.stats import poisson\n",
    "import numpy as np\n",
    "import matplotlib.pyplot as plt\n",
    "\n",
    "data = np.loadtxt(open(\"cnvdata.csv\", \"rb\"), delimiter=\",\", skiprows=1)\n",
    "\n",
    "plt.hist(data,bins=50)\n",
    "plt.title('Data distribution')\n",
    "plt.ylabel('$p(X)$')\n",
    "plt.xlabel('$X$')\n",
    "plt.show()"
   ]
  },
  {
   "cell_type": "markdown",
   "metadata": {},
   "source": [
    "<h3 style=\"color:rgb(208,90,80)\">Code (30 points)</h3>"
   ]
  },
  {
   "cell_type": "code",
   "execution_count": 2,
   "metadata": {},
   "outputs": [],
   "source": [
    "################################################\n",
    "# Begin your code (multiple cells)"
   ]
  },
  {
   "cell_type": "code",
   "execution_count": 3,
   "metadata": {},
   "outputs": [],
   "source": [
    "\n",
    "def E_step(x, lam, alpha):\n",
    "    # initialization \n",
    "    K = np.size(lam)\n",
    "    n = np.size(x)\n",
    "    temp = np.zeros((n,K)) \n",
    "    r = np.zeros((n,K))\n",
    "    \n",
    "    # loop to calcualte r matrix (slide 14) [above equation]\n",
    "    for kk in range(K):\n",
    "        temp[:,kk] = alpha[kk]*poisson.pmf(x,mu=lam[kk])\n",
    "       \n",
    "    r = temp/np.sum(temp,axis=1).reshape(-1,1)\n",
    "    return r\n",
    "\n",
    "def M_step(x, r):\n",
    "    # calculate alpha and lambda  [above equations](similar to slide 19)\n",
    "    n = r.shape[0]\n",
    "    alpha = 1/n*np.sum(r,axis=0)\n",
    "    lam = np.matmul(x,r)/np.sum(r,axis=0)\n",
    "    return lam, alpha\n",
    "    \n",
    "def log_liklihood(x, lam, alpha):\n",
    "    # L = x*np.log(lam)-lam-np.log(np.math.factorial(x)) \n",
    "    # intialization \n",
    "    K = np.size(lam)\n",
    "    n = np.size(x)\n",
    "    p = np.zeros((n,K))\n",
    "    \n",
    "    # loop to calculate probability k slide (slide 11) \n",
    "    for jj in range(K):\n",
    "        p[:, jj] = alpha[jj]*poisson.pmf(x,lam[jj])\n",
    "      \n",
    "    # log liklihood calculation (slide 11)\n",
    "    log_like = np.sum(np.log(np.sum(p,axis=1)),axis=0)\n",
    "    return log_like\n"
   ]
  },
  {
   "cell_type": "code",
   "execution_count": 4,
   "metadata": {},
   "outputs": [],
   "source": [
    "\n",
    "def iterative_process(x, lam, alpha):\n",
    "    # initialization\n",
    "    err = 1\n",
    "    L= list()\n",
    "    L.append(0) \n",
    "    # loop to reach the threshold\n",
    "    while err>1e-5:\n",
    "        L.append(log_liklihood(x, lam, alpha))\n",
    "        err = np.abs(L[-1]-L[-2])\n",
    "        r = E_step(x, lam, alpha)\n",
    "        lam, alpha = M_step(x,r)\n",
    "    \n",
    "    \n",
    "    return L, lam, alpha, r"
   ]
  },
  {
   "cell_type": "code",
   "execution_count": 5,
   "metadata": {},
   "outputs": [
    {
     "name": "stdout",
     "output_type": "stream",
     "text": [
      "alpha = [3.44e-09 5.45e-01 9.14e-02 3.64e-01]\n",
      "lambda = [ 41.79  48.65  96.97 186.98]\n",
      "log_liklihoods = [0, -1806.1285407030273, -1251.0291886564428, -1251.0195470479393, -1251.0195358176943, -1251.0195357236003]\n"
     ]
    }
   ],
   "source": [
    "K = 4\n",
    "alpha = 1/K*np.ones(K)\n",
    "x = data.copy()\n",
    "lam = np.array([10,50,100,150])\n",
    "\n",
    "L, lam, alpha, r = iterative_process(x, lam, alpha)\n",
    "np.set_printoptions(precision=2)\n",
    "print('alpha =',alpha)\n",
    "print('lambda =',lam)\n",
    "print('log_liklihoods =',L)"
   ]
  },
  {
   "cell_type": "code",
   "execution_count": 6,
   "metadata": {},
   "outputs": [
    {
     "name": "stdout",
     "output_type": "stream",
     "text": [
      "alpha = [9.14e-02 3.91e-03 5.45e-01 1.16e-30 3.46e-03 3.56e-01]\n",
      "lambda = [ 96.95 150.12  48.65  48.65 187.37 187.37]\n"
     ]
    }
   ],
   "source": [
    "K = 6\n",
    "alpha = 1/K*np.ones(K)\n",
    "lam = np.random.rand(K)*250\n",
    "\n",
    "L, lam, alpha, r = iterative_process(x, lam, alpha)\n",
    "print('alpha =',alpha)\n",
    "print('lambda =',lam)\n",
    "# print('log_liklihoods =',L)"
   ]
  },
  {
   "cell_type": "code",
   "execution_count": 7,
   "metadata": {},
   "outputs": [
    {
     "name": "stdout",
     "output_type": "stream",
     "text": [
      "alpha = [4.47e-08 9.14e-02 5.49e-31 2.61e-01 1.61e-09 1.61e-01 2.03e-01 2.84e-01]\n",
      "lambda = [ 48.64  96.97  48.64  48.64  48.64 184.97 188.58  48.65]\n"
     ]
    }
   ],
   "source": [
    "K = 8\n",
    "alpha = 1/K*np.ones(K)\n",
    "lam = np.random.rand(K)*250\n",
    "\n",
    "L, lam, alpha, r = iterative_process(x, lam, alpha)\n",
    "print('alpha =',alpha)\n",
    "print('lambda =',lam)\n",
    "# print('log_liklihoods =',L)"
   ]
  },
  {
   "cell_type": "code",
   "execution_count": 8,
   "metadata": {},
   "outputs": [],
   "source": [
    "\n",
    "# End your code (multiple cells)\n",
    "################################################"
   ]
  },
  {
   "cell_type": "markdown",
   "metadata": {},
   "source": [
    "<h3 style=\"color:rgb(0,120,170)\">Task:</h3>\n",
    "\n",
    "* Test your implementation of the four components with the mentioned initializations. Print the corresponding $\\alpha$'s, $\\lambda$'s and log-likelihoods. Finally, produce a plot that visualizes the original data distribution and the estimated one."
   ]
  },
  {
   "cell_type": "markdown",
   "metadata": {},
   "source": [
    "<h3 style=\"color:rgb(208,90,80)\">Code (10 points)</h3>"
   ]
  },
  {
   "cell_type": "code",
   "execution_count": 9,
   "metadata": {},
   "outputs": [],
   "source": [
    "################################################\n",
    "# Begin your code (multiple cells)"
   ]
  },
  {
   "cell_type": "code",
   "execution_count": 10,
   "metadata": {},
   "outputs": [
    {
     "name": "stdout",
     "output_type": "stream",
     "text": [
      "alpha = [3.44e-09 5.45e-01 9.14e-02 3.64e-01]\n",
      "lambda = [ 41.79  48.65  96.97 186.98]\n",
      "log_liklihoods = [0, -1806.1285407030273, -1251.0291886564428, -1251.0195470479393, -1251.0195358176943, -1251.0195357236003]\n"
     ]
    },
    {
     "data": {
      "text/plain": [
       "[<matplotlib.lines.Line2D at 0x2174a8a6518>]"
      ]
     },
     "execution_count": 10,
     "metadata": {},
     "output_type": "execute_result"
    },
    {
     "data": {
      "image/png": "[encoded data removed]",
      "text/plain": [
       "<Figure size 432x288 with 1 Axes>"
      ]
     },
     "metadata": {
      "needs_background": "light"
     },
     "output_type": "display_data"
    }
   ],
   "source": [
    "# first \n",
    "K = 4\n",
    "alpha = 1/K*np.ones(K)\n",
    "x = data.copy()\n",
    "lam = np.array([10,50,100,150])\n",
    "\n",
    "L, lam, alpha, r = iterative_process(x, lam, alpha)\n",
    "print('alpha =',alpha)\n",
    "print('lambda =',lam)\n",
    "print('log_liklihoods =',L)\n",
    "\n",
    "\n",
    "plt.figure()\n",
    "plt.hist(x,bins=50,density=True)\n",
    "plt.title('Data distribution')\n",
    "plt.ylabel('$p(X)$')\n",
    "plt.xlabel('$X$')\n",
    "# plt.show()\n",
    "\n",
    "t = np.arange(np.size(x))\n",
    "pt = 0\n",
    "for pp in range(K):\n",
    "    pt += alpha[pp]*poisson.pmf(t,lam[pp])\n",
    "    \n",
    "plt.plot(t,pt,linewidth=3)"
   ]
  },
  {
   "cell_type": "code",
   "execution_count": 11,
   "metadata": {},
   "outputs": [],
   "source": [
    "# End your code (multiple cells)\n",
    "################################################"
   ]
  },
  {
   "cell_type": "markdown",
   "metadata": {},
   "source": [
    "<h3 style=\"color:rgb(0,120,170)\">Task:</h3>\n",
    "\n",
    "* How many different copy numbers (i.e. components or clusters) do you think are in the data? What do you observe, and how do different values of $K$ change the results of your algorithm?"
   ]
  },
  {
   "cell_type": "markdown",
   "metadata": {},
   "source": [
    "<h3 style=\"color:rgb(210,90,80)\">Question (5 points):</h3>\n",
    "\n",
    "It seems there are three different clusters in the data. Because increasing K finds some lambda which are close to each other, it does not improve the estimated distribution. Indeed, only three main clusters are represented in various estimation."
   ]
  }
 ],
 "metadata": {
  "kernelspec": {
   "display_name": "Python 3",
   "language": "python",
   "name": "python3"
  },
  "language_info": {
   "codemirror_mode": {
    "name": "ipython",
    "version": 3
   },
   "file_extension": ".py",
   "mimetype": "text/x-python",
   "name": "python",
   "nbconvert_exporter": "python",
   "pygments_lexer": "ipython3",
   "version": "3.7.1"
  }
 },
 "nbformat": 4,
 "nbformat_minor": 4
}
