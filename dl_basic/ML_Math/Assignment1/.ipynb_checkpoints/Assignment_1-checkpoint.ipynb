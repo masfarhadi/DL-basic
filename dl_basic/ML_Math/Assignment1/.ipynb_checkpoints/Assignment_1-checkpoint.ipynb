{
 "cells": [
  {
   "cell_type": "markdown",
   "metadata": {},
   "source": [
    "<h1 style=\"color:rgb(0,120,170)\">Assignment 1: Bayes Classifier, Gaussian Classification, Maximum Likelihood</h1>"
   ]
  },
  {
   "cell_type": "markdown",
   "metadata": {},
   "source": [
    "This material, no matter whether in printed or electronic form, may be used for personal and non-commercial educational use only. Any reproduction of this material, no matter whether as a whole or in parts, no matter whether in printed or in electronic form, requires explicit prior acceptance of the authors."
   ]
  },
  {
   "cell_type": "markdown",
   "metadata": {},
   "source": [
    "<h2 style=\"color:rgb(0,120,170)\">Task 1: On the Bayes optimal classifier</h2>\n",
    "\n",
    "Suppose we have a two-class classification problem, where we denote\n",
    "the two classes with $+1$ and $-1$. Further assume that the joint\n",
    "distribution of $\\mathbf{x}$ and $y$, $p(\\mathbf{x},y)$, is known and that\n",
    "the distributions of the two classes do not overlap, i.e.\n",
    "\n",
    "$$\n",
    "\\min\\{p(\\mathbf{x}|y=+1),p(\\mathbf{x}|y=-1)\\}=0.\n",
    "$$\n",
    "\n",
    "Determine an optimal classification function $g$ and compute the\n",
    "generalization error using the zero-one loss function.\n"
   ]
  },
  {
   "cell_type": "markdown",
   "metadata": {},
   "source": [
    "<h3 style=\"color:rgb(210,90,80)\">Calculation (20 points):</h3>\n",
    "\n",
    "$$\n",
    "\\min\\{p(\\mathbf{x}|y=+1),p(\\mathbf{x}|y=-1)\\}=0. \\implies \\min\\{\\frac{p(y=+1|\\mathbf{x})p(\\mathbf{x})}{p(y=+1)},\\frac{p(y=-1|\\mathbf{x})p(\\mathbf{x})}{p(y=-1)}\\}=0 \\implies \\min\\{\\frac{p(y=+1|\\mathbf{x})}{p(y=+1)},\\frac{p(y=-1|\\mathbf{x})}{p(y=-1)}\\}=0 \\implies \n",
    "\\begin{cases} \n",
    "    p(y=+1|\\mathbf{x})=0 &  \\text{for} & p(y=+1|\\mathbf{x})<p(y=-1|\\mathbf{x})\\frac{p(y=+1)}{p(y=-1)}\\\\\n",
    "    p(y=-1|\\mathbf{x})=0 &  \\text{for} & p(y=-1|\\mathbf{x})<p(y=+1|\\mathbf{x})\\frac{p(y=-1)}{p(y=+1)}\n",
    "\\end{cases}\n",
    "$$\n",
    "Then, the optimal classification function is\n",
    "$$\n",
    "g(\\mathbf{x};w) =\n",
    "\\begin{cases} \n",
    "    >0 &  \\text{for} & p(y=+1|\\mathbf{x})>p(y=-1|\\mathbf{x})\\frac{p(y=+1)}{p(y=-1)}\\\\\n",
    "    <0 &  \\text{for} & p(y=+1|\\mathbf{x})<p(y=-1|\\mathbf{x})\\frac{p(y=+1)}{p(y=-1)}\n",
    "\\end{cases}\n",
    "\\implies g(\\mathbf{x};w) = p(y=+1|\\mathbf{x}) - p(y=-1|\\mathbf{x})\\frac{p(y=+1)}{p(y=-1)} \\\\ \n",
    "\\implies g(\\mathbf{x};w)    = \\ln\\frac{p(y=+1|\\mathbf{x})}{p(y=-1|\\mathbf{x})} + \\ln\\frac{p(y=+1)}{p(y=-1)}\n",
    "$$\n",
    "by defining the loss function as \n",
    "$$\n",
    "L(y,g(\\mathbf{x};w))= \n",
    "    \\begin{cases} \n",
    "    0 & \\text{for} & y.g(\\mathbf{x};w)>0 \\\\\n",
    "    1 & \\text{for} & y.g(\\mathbf{x};w)<0 \\\\\n",
    "    \\end{cases}\n",
    "$$\n",
    "The the generalization error by using the zero-one loss function is\n",
    "$$\n",
    "R(g(.;w)) = \\int_{X_1} p(\\mathbf{x},y=-1)dx +\\int_{X_{-1}} p(\\mathbf{x},y=+1)dx = \n",
    "            \\int_{X_1} p(y=-1|\\mathbf{x})p(x)dx +\\int_{X_{-1}} p(y=+1|\\mathbf{x})p(x)dx = \n",
    "            \\int_{g(\\mathbf{x})>0} p(y=-1|\\mathbf{x})p(x)dx +\\int_{g(\\mathbf{x})<0} p(y=+1|\\mathbf{x})p(x)dx = 0\n",
    "$$\n"
   ]
  },
  {
   "cell_type": "markdown",
   "metadata": {},
   "source": [
    "<h2 style=\"color:rgb(0,120,170)\">Task 2: Gaussian classification task</h2>\n",
    "\n",
    "Assume that the two classes in data set ${\\tt DataSet1a}$ are\n",
    "distributed according to multivariate normal distributions. \n",
    "* Estimate the means and covariance matrices as well as $p(y=+1)$ and $p(y=-1)$ from the data and print your results. "
   ]
  },
  {
   "cell_type": "markdown",
   "metadata": {},
   "source": [
    "<h3 style=\"color:rgb(208,90,80)\">Code (10 points)</h3>"
   ]
  },
  {
   "cell_type": "code",
   "execution_count": 84,
   "metadata": {},
   "outputs": [
    {
     "name": "stdout",
     "output_type": "stream",
     "text": [
      "the first mean values E(x|y=+1)= [-0.23072318  1.0973771 ]\n",
      "the second mean values E(x|y=-1)= [0.72081505 2.3428049 ]\n",
      "the first covariance martix is  [[ 0.97776086 -0.63279722]\n",
      " [-0.63279722  0.96214327]]\n",
      "the second covariance martix is  [[1.18686086 0.55312556]\n",
      " [0.55312556 0.98948508]]\n",
      "p(y=+1) =  0.675 \n",
      "p(y=-1) =  0.325\n"
     ]
    }
   ],
   "source": [
    "import sklearn\n",
    "import numpy as np\n",
    "import matplotlib.pyplot as plt\n",
    "from scipy.stats import multivariate_normal\n",
    "from mpl_toolkits.mplot3d import Axes3D\n",
    "import random\n",
    "\n",
    "#read data, split into X(features) and y(labels)\n",
    "Z = np.genfromtxt('DataSet1a.csv', delimiter=',', skip_header=1)\n",
    "X, y = Z[:,:-1], Z[:,-1]\n",
    "#further split features according to labels\n",
    "Xpos=X[y==1]\n",
    "Xneg=X[y==-1]\n",
    "\n",
    "# Begin your code\n",
    "mu_pos = np.mean(Xpos, axis=0)\n",
    "print('the first mean values E(x|y=+1)=',mu_pos)\n",
    "mu_neg = np.mean(Xneg, axis=0)\n",
    "print('the second mean values E(x|y=-1)=',mu_neg)\n",
    "cov_pos = np.cov(Xpos[:,0], Xpos[:,1])\n",
    "print('the first covariance martix is ',cov_pos)\n",
    "cov_neg = np.cov(Xneg[:,0], Xneg[:,1])\n",
    "print('the second covariance martix is ',cov_neg)\n",
    "Xpos_size = Xpos.shape[0]\n",
    "Xneg_size = Xneg.shape[0]\n",
    "X_size = X.shape[0]\n",
    "p_pos = Xpos_size/X_size \n",
    "p_neg = Xneg_size/X_size\n",
    "print('p(y=+1) = ',p_pos ,'\\np(y=-1) = ',p_neg)\n",
    "\n",
    "# End your code"
   ]
  },
  {
   "cell_type": "markdown",
   "metadata": {},
   "source": [
    "* Implement an optimal classification function $g$ (see slide 11) by calculating the values of the corresponding parameters $\\mathbf{A}$, $\\mathbf{w}$ and $b$."
   ]
  },
  {
   "cell_type": "markdown",
   "metadata": {},
   "source": [
    "<h3 style=\"color:rgb(208,90,80)\">Code (15 points)</h3>"
   ]
  },
  {
   "cell_type": "code",
   "execution_count": 85,
   "metadata": {},
   "outputs": [
    {
     "name": "stdout",
     "output_type": "stream",
     "text": [
      "A= [[0.64132121 1.80808986]\n",
      " [1.80808986 0.44294787]]\n",
      "w= [ 1.54525683 -1.02711802]\n",
      "b= 3.098736069363357\n"
     ]
    }
   ],
   "source": [
    "# Begin your code\n",
    "A = np.linalg.inv(cov_pos)-np.linalg.inv(cov_neg)\n",
    "print('A=',A)\n",
    "w = np.linalg.inv(cov_pos)@mu_pos-np.linalg.inv(cov_neg)@mu_neg\n",
    "print('w=',w)\n",
    "b = -0.5*mu_pos.T@np.linalg.inv(cov_pos)@mu_pos + 0.5*mu_neg.T@np.linalg.inv(cov_neg)@mu_neg -\\\n",
    "    0.5*np.log(np.linalg.det(cov_pos)) + 0.5*np.log(np.linalg.det(cov_neg)) +\\\n",
    "    np.log(p_pos) - np.log(p_neg)\n",
    "print('b=',b)\n",
    "# End your code"
   ]
  },
  {
   "cell_type": "markdown",
   "metadata": {},
   "source": [
    "* Visualize the classification function and the decision boundaries in a two-dimensional plot."
   ]
  },
  {
   "cell_type": "markdown",
   "metadata": {},
   "source": [
    "<h3 style=\"color:rgb(208,90,80)\">Code (15 points)</h3>"
   ]
  },
  {
   "cell_type": "code",
   "execution_count": 86,
   "metadata": {},
   "outputs": [
    {
     "data": {
      "text/plain": [
       "<matplotlib.contour.QuadContourSet at 0x1f1067b5e10>"
      ]
     },
     "execution_count": 86,
     "metadata": {},
     "output_type": "execute_result"
    },
    {
     "data": {
      "image/png": "[encoded data removed]",
      "text/plain": [
       "<Figure size 432x288 with 1 Axes>"
      ]
     },
     "metadata": {
      "needs_background": "light"
     },
     "output_type": "display_data"
    }
   ],
   "source": [
    "# Begin your code\n",
    "\n",
    "plt.figure()\n",
    "plt.scatter(Xpos[:, 0], Xpos[:, 1],marker ='+',label='y=+1')\n",
    "plt.scatter(Xneg[:, 0], Xneg[:, 1],marker='*',label='y=-1' )\n",
    "plt.legend()\n",
    "\n",
    "X1 = np.sort(X[:,0])\n",
    "X2 = np.sort(X[:,1])\n",
    "XS = np.array([X1, X2])\n",
    "g = -0.5*XS.T@A@XS + w.T@XS+b\n",
    "xx, yy = np.meshgrid(X1,X2)\n",
    "plt.contour(xx, yy, g, levels=[0])# \n",
    "\n",
    "# End your code"
   ]
  },
  {
   "cell_type": "markdown",
   "metadata": {},
   "source": [
    "<h2 style=\"color:rgb(0,120,170)\">Task 3: Maximum likelihood for exponential distribution</h2>\n",
    "\n",
    "Given the model class $M$ of all exponential distributions with \n",
    "parameter\n",
    "$\\lambda$.\n",
    "i.e. $M=\\{f_{\\lambda}(x) \\mid \\lambda > 0\\}$ with\n",
    "\n",
    "$$\n",
    "      f_{\\lambda}(x) = \\begin{cases}\\displaystyle\n",
    "                         \\lambda {\\rm e}^{-\\lambda x} & x \\ge 0 \\\\\n",
    "\t\t\t0 & x < 0\n",
    "                      \\end{cases} \n",
    "$$\n",
    "\n",
    "* Derive a formula for the maximum likelihood estimator $\\lambda^*$ for the parameter $\\lambda$. Hint: Maximize the logarithm of the likelihood function instead of the likelihood function itself."
   ]
  },
  {
   "cell_type": "markdown",
   "metadata": {},
   "source": [
    "<h3 style=\"color:rgb(210,90,80)\">Calculation (20 points):</h3>\n",
    "$$\n",
    " L(\\lambda,\\mathbf{x})=\\prod_{i=1}^{n} f(x_i,\\lambda) = \\prod_{i=1}^{n} \\lambda e^{-\\lambda x_i} \n",
    "$$\n",
    "Logarithn likelihood function is \n",
    "$$\n",
    "\\ln (\\lambda,\\mathbf{x}) = \\ln (\\lambda^n \\prod_{i=1}^{n} e^{-\\lambda x_i}) = n \\ln(\\lambda) - \\lambda \\sum_{i=1}^{n} x_i \n",
    "$$\n",
    "derivative is equal to zero\n",
    "$$\n",
    "\\frac{\\partial \\ln (\\lambda,\\mathbf{x})}{\\partial \\lambda} = \\frac{n}{\\lambda}-\\sum_{i=1}^{n} x_i =0\n",
    "$$\n",
    "Then\n",
    "$$\n",
    "\\implies \\lambda^{*} = \\frac{n}{\\sum_{i=1}^{n} x_i}\n",
    "$$"
   ]
  },
  {
   "cell_type": "markdown",
   "metadata": {},
   "source": [
    "* Apply the formula for $\\lambda^*$ from the previous part to the data of ${\\tt DataSet1b}$. Visualize the density defined by this optimal $\\lambda^*$ and compare it to the true data distribution (e.g. by using a histogram)."
   ]
  },
  {
   "cell_type": "markdown",
   "metadata": {},
   "source": [
    "<h3 style=\"color:rgb(208,90,80)\">Code (20 points)</h3>"
   ]
  },
  {
   "cell_type": "code",
   "execution_count": 87,
   "metadata": {},
   "outputs": [
    {
     "data": {
      "text/plain": [
       "<matplotlib.legend.Legend at 0x1f106631fd0>"
      ]
     },
     "execution_count": 87,
     "metadata": {},
     "output_type": "execute_result"
    },
    {
     "data": {
      "image/png": "[encoded data removed]",
      "text/plain": [
       "<Figure size 432x288 with 1 Axes>"
      ]
     },
     "metadata": {
      "needs_background": "light"
     },
     "output_type": "display_data"
    }
   ],
   "source": [
    "# load the data\n",
    "data = np.genfromtxt('DataSet1b.csv', delimiter=',', skip_header=1)\n",
    "# estimate the parameter according to the previously derived formula\n",
    "\n",
    "# Begin your code\n",
    "x = data \n",
    "n = np.size(x) \n",
    "lam = n/np.sum(x)\n",
    "\n",
    "f = lam*np.exp(-lam*x)\n",
    "\n",
    "plt.figure()\n",
    "plt.scatter(x,f,marker='.',color='r', label='ML')\n",
    "H = plt.hist(x,int(n/10), density=1, label='Hist')\n",
    "plt.legend()\n",
    "\n",
    "# End your code"
   ]
  }
 ],
 "metadata": {
  "kernelspec": {
   "display_name": "Python 3",
   "language": "python",
   "name": "python3"
  },
  "language_info": {
   "codemirror_mode": {
    "name": "ipython",
    "version": 3
   },
   "file_extension": ".py",
   "mimetype": "text/x-python",
   "name": "python",
   "nbconvert_exporter": "python",
   "pygments_lexer": "ipython3",
   "version": "3.7.1"
  }
 },
 "nbformat": 4,
 "nbformat_minor": 4
}
